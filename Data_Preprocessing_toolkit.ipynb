{
 "cells": [
  {
   "cell_type": "markdown",
   "id": "7b1af4a0-97b5-4561-89f1-8cb84e8994dc",
   "metadata": {},
   "source": [
    "# Import the libraries"
   ]
  },
  {
   "cell_type": "code",
   "execution_count": 3,
   "id": "2b3350fb-d61d-47c8-be32-306c6e0a17d0",
   "metadata": {},
   "outputs": [],
   "source": [
    "import pandas as pd \n",
    "import numpy as np\n",
    "import matplotlib.pyplot as plt"
   ]
  },
  {
   "cell_type": "markdown",
   "id": "0eba573f-995f-41ab-a95a-34d26f8623ab",
   "metadata": {},
   "source": [
    "# Import the Dataset"
   ]
  },
  {
   "cell_type": "code",
   "execution_count": 5,
   "id": "aeaa4db5-d1e8-4146-bdea-ebf99cd74792",
   "metadata": {},
   "outputs": [],
   "source": [
    "dataset =  pd.read_csv('Data.csv')\n",
    "x = dataset.iloc[:,:-1].values\n",
    "y = dataset.iloc[:,-1].values"
   ]
  },
  {
   "cell_type": "code",
   "execution_count": 6,
   "id": "14b62bd3-61df-4f1a-bfc9-36d85e852104",
   "metadata": {},
   "outputs": [
    {
     "name": "stdout",
     "output_type": "stream",
     "text": [
      "[['France' 44.0 72000.0]\n",
      " ['Spain' 27.0 48000.0]\n",
      " ['Germany' 30.0 54000.0]\n",
      " ['Spain' 38.0 61000.0]\n",
      " ['Germany' 40.0 nan]\n",
      " ['France' 35.0 58000.0]\n",
      " ['Spain' nan 52000.0]\n",
      " ['France' 48.0 79000.0]\n",
      " ['Germany' 50.0 83000.0]\n",
      " ['France' 37.0 67000.0]]\n"
     ]
    }
   ],
   "source": [
    "print(x)"
   ]
  },
  {
   "cell_type": "code",
   "execution_count": 7,
   "id": "d39e4797-9ccc-4f8f-b28a-a3282f5f0f26",
   "metadata": {},
   "outputs": [
    {
     "name": "stdout",
     "output_type": "stream",
     "text": [
      "['No' 'Yes' 'No' 'No' 'Yes' 'Yes' 'No' 'Yes' 'No' 'Yes']\n"
     ]
    }
   ],
   "source": [
    "print(y)"
   ]
  },
  {
   "cell_type": "markdown",
   "id": "fedae6bb-b135-4a0d-b7ad-56f6b4fda5d4",
   "metadata": {},
   "source": [
    "# Taking care of the missing data.\n",
    "  # 1. delete 1% of missing data\n",
    "  # 2. Numerical data (replace by mean , median ), categorical data => mode(Most frequent value)."
   ]
  },
  {
   "cell_type": "code",
   "execution_count": 9,
   "id": "b4ea29f8-e44e-4fd5-af5e-47fcdd023fb7",
   "metadata": {},
   "outputs": [],
   "source": [
    "from sklearn.impute import SimpleImputer\n",
    "imputer = SimpleImputer(missing_values=np.nan,strategy='mean')\n",
    "x[:,1:3] = imputer.fit_transform(x[:,1:3])"
   ]
  },
  {
   "cell_type": "code",
   "execution_count": 10,
   "id": "66153f81-51ea-4761-9468-76eb5e535faf",
   "metadata": {},
   "outputs": [
    {
     "name": "stdout",
     "output_type": "stream",
     "text": [
      "[['France' 44.0 72000.0]\n",
      " ['Spain' 27.0 48000.0]\n",
      " ['Germany' 30.0 54000.0]\n",
      " ['Spain' 38.0 61000.0]\n",
      " ['Germany' 40.0 63777.77777777778]\n",
      " ['France' 35.0 58000.0]\n",
      " ['Spain' 38.77777777777778 52000.0]\n",
      " ['France' 48.0 79000.0]\n",
      " ['Germany' 50.0 83000.0]\n",
      " ['France' 37.0 67000.0]]\n"
     ]
    }
   ],
   "source": [
    "print(x)"
   ]
  },
  {
   "cell_type": "markdown",
   "id": "fe650244-c777-4b30-a33b-6d012cdca61b",
   "metadata": {},
   "source": [
    "# Encoading the valriables \n",
    "#    1. One Hot Encoading. \n",
    "#    2. Label Encoading."
   ]
  },
  {
   "cell_type": "code",
   "execution_count": 12,
   "id": "6867a572-45c6-4a2e-88c4-ca0f3b16420a",
   "metadata": {},
   "outputs": [],
   "source": [
    "from sklearn.preprocessing import OneHotEncoder\n",
    "from sklearn.compose import ColumnTransformer\n",
    "ct = ColumnTransformer(transformers=[('encoder',OneHotEncoder(),[0])],remainder='passthrough')\n",
    "x = ct.fit_transform(x)"
   ]
  },
  {
   "cell_type": "code",
   "execution_count": 13,
   "id": "4081c520-203f-4705-a6a2-d3343d46d253",
   "metadata": {},
   "outputs": [
    {
     "name": "stdout",
     "output_type": "stream",
     "text": [
      "[[1.0 0.0 0.0 44.0 72000.0]\n",
      " [0.0 0.0 1.0 27.0 48000.0]\n",
      " [0.0 1.0 0.0 30.0 54000.0]\n",
      " [0.0 0.0 1.0 38.0 61000.0]\n",
      " [0.0 1.0 0.0 40.0 63777.77777777778]\n",
      " [1.0 0.0 0.0 35.0 58000.0]\n",
      " [0.0 0.0 1.0 38.77777777777778 52000.0]\n",
      " [1.0 0.0 0.0 48.0 79000.0]\n",
      " [0.0 1.0 0.0 50.0 83000.0]\n",
      " [1.0 0.0 0.0 37.0 67000.0]]\n"
     ]
    }
   ],
   "source": [
    "print(x)"
   ]
  },
  {
   "cell_type": "code",
   "execution_count": 14,
   "id": "e59ba3b9-17c7-49a1-ac69-41bf77451752",
   "metadata": {},
   "outputs": [],
   "source": [
    "from sklearn.preprocessing import LabelEncoder\n",
    "le = LabelEncoder()\n",
    "y = le.fit_transform(y)"
   ]
  },
  {
   "cell_type": "code",
   "execution_count": 15,
   "id": "d57cbe5e-55f8-4caa-9383-b573169445ff",
   "metadata": {},
   "outputs": [
    {
     "name": "stdout",
     "output_type": "stream",
     "text": [
      "[0 1 0 0 1 1 0 1 0 1]\n"
     ]
    }
   ],
   "source": [
    "print(y)"
   ]
  },
  {
   "cell_type": "markdown",
   "id": "fd008fce-a5b0-4404-98da-def6a4260157",
   "metadata": {},
   "source": [
    "# splitting the dataset into training and testing set "
   ]
  },
  {
   "cell_type": "code",
   "execution_count": 20,
   "id": "5aca2d17-c7a6-4647-bb02-53be8ffa64dc",
   "metadata": {},
   "outputs": [],
   "source": [
    "from sklearn.model_selection import train_test_split\n",
    "x_train,x_test, y_train,y_test = train_test_split(x,y,random_state = 42)"
   ]
  },
  {
   "cell_type": "code",
   "execution_count": 21,
   "id": "b8a2967e-01bf-48c1-9f9e-8ba4ce446407",
   "metadata": {},
   "outputs": [
    {
     "name": "stdout",
     "output_type": "stream",
     "text": [
      "[[1.0 0.0 0.0 44.0 72000.0]\n",
      " [1.0 0.0 0.0 48.0 79000.0]\n",
      " [0.0 1.0 0.0 30.0 54000.0]\n",
      " [1.0 0.0 0.0 37.0 67000.0]\n",
      " [0.0 1.0 0.0 40.0 63777.77777777778]\n",
      " [0.0 0.0 1.0 38.0 61000.0]\n",
      " [0.0 0.0 1.0 38.77777777777778 52000.0]]\n"
     ]
    }
   ],
   "source": [
    "print(x_train)"
   ]
  },
  {
   "cell_type": "code",
   "execution_count": 22,
   "id": "56decf34-ba1d-4f40-8a4e-13edf00fb1fb",
   "metadata": {},
   "outputs": [
    {
     "name": "stdout",
     "output_type": "stream",
     "text": [
      "[[0.0 1.0 0.0 50.0 83000.0]\n",
      " [0.0 0.0 1.0 27.0 48000.0]\n",
      " [1.0 0.0 0.0 35.0 58000.0]]\n"
     ]
    }
   ],
   "source": [
    "print(x_test)"
   ]
  },
  {
   "cell_type": "code",
   "execution_count": 23,
   "id": "4b383bf8-be2a-4a75-ba02-70e7677e28d6",
   "metadata": {},
   "outputs": [
    {
     "name": "stdout",
     "output_type": "stream",
     "text": [
      "[0 1 0 1 1 0 0]\n"
     ]
    }
   ],
   "source": [
    "print(y_train)"
   ]
  },
  {
   "cell_type": "code",
   "execution_count": 24,
   "id": "b8f229da-bf3d-4b52-a161-b2b4a4d0f0b7",
   "metadata": {},
   "outputs": [
    {
     "name": "stdout",
     "output_type": "stream",
     "text": [
      "[0 1 1]\n"
     ]
    }
   ],
   "source": [
    "print(y_test)"
   ]
  },
  {
   "cell_type": "markdown",
   "id": "4bfee5f4-d381-4c93-8f56-bccf752031f4",
   "metadata": {},
   "source": [
    "# Scaling the feaatures."
   ]
  },
  {
   "cell_type": "code",
   "execution_count": 26,
   "id": "8c03003b-d071-422b-a962-6c3241d72acd",
   "metadata": {},
   "outputs": [],
   "source": [
    "from sklearn.preprocessing import StandardScaler\n",
    "sc = StandardScaler()\n",
    "x_train[:,1:] = sc.fit_transform(x_train[:,1:])\n",
    "x_test[:,1:] = sc.transform(x_test[:,1:])"
   ]
  },
  {
   "cell_type": "code",
   "execution_count": 27,
   "id": "e2e3a235-4193-4139-bb58-3b32c61ab40c",
   "metadata": {},
   "outputs": [
    {
     "name": "stdout",
     "output_type": "stream",
     "text": [
      "[[1.0 -0.6324555320336758 -0.6324555320336759 0.8790542992514155\n",
      "  0.8892086044783815]\n",
      " [1.0 -0.6324555320336758 -0.6324555320336759 1.6429221730836805\n",
      "  1.6782246901422972]\n",
      " [0.0 1.5811388300841895 -0.6324555320336759 -1.7944832591615116\n",
      "  -1.1396899015145447]\n",
      " [1.0 -0.6324555320336758 -0.6324555320336759 -0.45771447995504805\n",
      "  0.32562568614701304]\n",
      " [0.0 1.5811388300841895 -0.6324555320336759 0.11518642541915065\n",
      "  -0.03757219455542401]\n",
      " [0.0 -0.6324555320336758 1.5811388300841898 -0.26674751149698184\n",
      "  -0.350673815850629]\n",
      " [0.0 -0.6324555320336758 1.5811388300841898 -0.11821764714070793\n",
      "  -1.3651230688470921]]\n"
     ]
    }
   ],
   "source": [
    "print(x_train)"
   ]
  },
  {
   "cell_type": "code",
   "execution_count": 28,
   "id": "ed9971a4-6b24-48f2-b571-51708d2d2e7e",
   "metadata": {},
   "outputs": [
    {
     "name": "stdout",
     "output_type": "stream",
     "text": [
      "[[0.0 1.5811388300841895 -0.6324555320336759 2.024856109999813\n",
      "  2.129091024807392]\n",
      " [0.0 -0.6324555320336758 1.5811388300841898 -2.3673841645357103\n",
      "  -1.8159894035121869]\n",
      " [1.0 -0.6324555320336758 -0.6324555320336759 -0.8396484168711805\n",
      "  -0.68882356684945]]\n"
     ]
    }
   ],
   "source": [
    "print(x_test)"
   ]
  }
 ],
 "metadata": {
  "kernelspec": {
   "display_name": "Python 3 (ipykernel)",
   "language": "python",
   "name": "python3"
  },
  "language_info": {
   "codemirror_mode": {
    "name": "ipython",
    "version": 3
   },
   "file_extension": ".py",
   "mimetype": "text/x-python",
   "name": "python",
   "nbconvert_exporter": "python",
   "pygments_lexer": "ipython3",
   "version": "3.10.11"
  }
 },
 "nbformat": 4,
 "nbformat_minor": 5
}
